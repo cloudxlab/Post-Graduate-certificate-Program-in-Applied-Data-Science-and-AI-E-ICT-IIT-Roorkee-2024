{
  "cells": [
    {
      "cell_type": "markdown",
      "metadata": {
        "id": "LQFIz9Omd6Us"
      },
      "source": [
        "# Writing Functions - Python\n",
        "\n",
        "A function is basically a sequence of operations. It may take inputs via arguments. And it may give the result by returning value.\n",
        "\n",
        "Let us define a function square which basically gives square of whatever we pass as argument.\n",
        "\n",
        "You can visualize a function like this. There is input and there is output."
      ]
    },
    {
      "cell_type": "code",
      "execution_count": null,
      "metadata": {
        "id": "uHBc7X8Fd6Ut"
      },
      "outputs": [],
      "source": [
        "def sq(x):\n",
        "  return x*x"
      ]
    },
    {
      "cell_type": "code",
      "execution_count": null,
      "metadata": {
        "scrolled": true,
        "colab": {
          "base_uri": "https://localhost:8080/"
        },
        "id": "A7M3p_QGd6Uu",
        "outputId": "f9ce695c-5be0-4106-b430-7ee83dd96b76"
      },
      "outputs": [
        {
          "output_type": "execute_result",
          "data": {
            "text/plain": [
              "16"
            ]
          },
          "metadata": {},
          "execution_count": 2
        }
      ],
      "source": [
        "sq(4)"
      ]
    },
    {
      "cell_type": "code",
      "execution_count": null,
      "metadata": {
        "colab": {
          "base_uri": "https://localhost:8080/"
        },
        "id": "ElxvhTb6d6Uv",
        "outputId": "11c8d1ad-6881-4905-e549-755109fa544f"
      },
      "outputs": [
        {
          "output_type": "execute_result",
          "data": {
            "text/plain": [
              "100"
            ]
          },
          "metadata": {},
          "execution_count": 3
        }
      ],
      "source": [
        "sq(10)"
      ]
    },
    {
      "cell_type": "markdown",
      "metadata": {
        "id": "PdsZInScd6Uw"
      },
      "source": [
        "A function could also take multiple arguments\n",
        "\n",
        "![image.png](attachment:image.png)"
      ]
    },
    {
      "cell_type": "code",
      "execution_count": null,
      "metadata": {
        "colab": {
          "base_uri": "https://localhost:8080/"
        },
        "id": "nmRM0Obzd6Uw",
        "outputId": "9093b1fd-7115-4129-9cc7-5a7692c85d48"
      },
      "outputs": [
        {
          "output_type": "execute_result",
          "data": {
            "text/plain": [
              "30"
            ]
          },
          "metadata": {},
          "execution_count": 7
        }
      ],
      "source": [
        "# function could also take multiple arguments\n",
        "# Here a and b are the two arguments and function is returning a single value.\n",
        "def add(a, b):\n",
        "  return a+b\n",
        "\n",
        "add(10, 20)"
      ]
    },
    {
      "cell_type": "code",
      "execution_count": null,
      "metadata": {
        "colab": {
          "base_uri": "https://localhost:8080/"
        },
        "id": "Xd9wwW_Cd6Ux",
        "outputId": "2dfd6f5e-c3b0-4299-d5ee-8dc2d8950da9"
      },
      "outputs": [
        {
          "output_type": "execute_result",
          "data": {
            "text/plain": [
              "130.5"
            ]
          },
          "metadata": {},
          "execution_count": 9
        }
      ],
      "source": [
        "add(10.5, 120)"
      ]
    },
    {
      "cell_type": "markdown",
      "metadata": {
        "id": "_MilsDQad6Ux"
      },
      "source": [
        "## Variable arguments to a function"
      ]
    },
    {
      "cell_type": "code",
      "execution_count": null,
      "metadata": {
        "id": "BAsHFEmid6Ux"
      },
      "outputs": [],
      "source": [
        "# We can define functions with variable arguments\n",
        "def sum(*args):\n",
        "    s = 0\n",
        "    for i in args:\n",
        "        s += i\n",
        "    return s"
      ]
    },
    {
      "cell_type": "code",
      "execution_count": null,
      "metadata": {
        "colab": {
          "base_uri": "https://localhost:8080/"
        },
        "id": "4ITCEE-sd6Ux",
        "outputId": "c2176e67-2a9a-435e-a46b-f2b18500c946"
      },
      "outputs": [
        {
          "output_type": "execute_result",
          "data": {
            "text/plain": [
              "1"
            ]
          },
          "metadata": {},
          "execution_count": 10
        }
      ],
      "source": [
        "sum(1)"
      ]
    },
    {
      "cell_type": "code",
      "execution_count": null,
      "metadata": {
        "colab": {
          "base_uri": "https://localhost:8080/"
        },
        "id": "MEO9x5iJd6Uy",
        "outputId": "47fa2325-0bbb-4df4-91d9-0acf686c266b"
      },
      "outputs": [
        {
          "output_type": "execute_result",
          "data": {
            "text/plain": [
              "5"
            ]
          },
          "metadata": {},
          "execution_count": 11
        }
      ],
      "source": [
        "sum(2, 3)"
      ]
    },
    {
      "cell_type": "code",
      "execution_count": null,
      "metadata": {
        "colab": {
          "base_uri": "https://localhost:8080/"
        },
        "id": "tmmE1aVhd6Uy",
        "outputId": "08759530-bbbd-45c2-ad9c-9eec61822a43"
      },
      "outputs": [
        {
          "output_type": "execute_result",
          "data": {
            "text/plain": [
              "9"
            ]
          },
          "metadata": {},
          "execution_count": 12
        }
      ],
      "source": [
        "sum(2, 3, 4)"
      ]
    },
    {
      "cell_type": "markdown",
      "metadata": {
        "id": "zPXugjT4d6Uy"
      },
      "source": [
        "## Calling a function with variable arguments"
      ]
    },
    {
      "cell_type": "code",
      "execution_count": null,
      "metadata": {
        "colab": {
          "base_uri": "https://localhost:8080/"
        },
        "id": "urX2eR4cd6Uy",
        "outputId": "86b62192-0e6f-450f-887a-90a387dad96a"
      },
      "outputs": [
        {
          "output_type": "execute_result",
          "data": {
            "text/plain": [
              "3"
            ]
          },
          "metadata": {},
          "execution_count": 13
        }
      ],
      "source": [
        "# If we have a usual function such as the following:\n",
        "\n",
        "def add(a, b, c):\n",
        "    return a+b+c\n",
        "\n",
        "# we can call it using variable argument by putting an asterix\n",
        "arr = range(3)\n",
        "arr\n",
        "add(*arr)"
      ]
    },
    {
      "cell_type": "markdown",
      "metadata": {
        "id": "IyyCyJEFd6Uz"
      },
      "source": [
        "## Passing a function as argument\n",
        "\n",
        "In python, you can pass a function in another function just like another variable."
      ]
    },
    {
      "cell_type": "code",
      "execution_count": null,
      "metadata": {
        "colab": {
          "base_uri": "https://localhost:8080/"
        },
        "id": "NMT4Z-bHd6Uz",
        "outputId": "8dd194c7-6c6d-401c-92de-73b4cc58164f"
      },
      "outputs": [
        {
          "output_type": "execute_result",
          "data": {
            "text/plain": [
              "[2, 4, 6]"
            ]
          },
          "metadata": {},
          "execution_count": 18
        }
      ],
      "source": [
        "def double_it(x):\n",
        "    return 2*x\n",
        "\n",
        "def apply_transformation(f, arr):\n",
        "    result = []\n",
        "    for a in arr:\n",
        "        v = f(a)\n",
        "        result.append(v)\n",
        "    return result\n",
        "apply_transformation(double_it, [1,2,3])"
      ]
    },
    {
      "cell_type": "code",
      "execution_count": null,
      "metadata": {
        "colab": {
          "base_uri": "https://localhost:8080/"
        },
        "id": "MZZkGejtd6U0",
        "outputId": "e17a59b7-3edf-4fa1-e07a-c8125c4df815"
      },
      "outputs": [
        {
          "output_type": "execute_result",
          "data": {
            "text/plain": [
              "[1, 4, 9]"
            ]
          },
          "metadata": {},
          "execution_count": 19
        }
      ],
      "source": [
        "# Similarly we can us another function - the one that we defined above.\n",
        "apply_transformation(sq, [1,2,3])"
      ]
    },
    {
      "cell_type": "markdown",
      "metadata": {
        "id": "V46woKaHd6U0"
      },
      "source": [
        "# Differentiation\n",
        "\n",
        "Differentiation is basically about finding the rate of change.\n",
        "\n",
        "Rate of change of distance is velocity. Rate of change of velocity is acceleration.\n",
        "\n",
        "If you plot rate of change of y with respect to x for a straight line y = mx +c , you will get a constant horizontal line.\n",
        "\n",
        "If you plot, rate of change of y with respect to x for a parabola, it gives a straight line.\n",
        "\n",
        "![image.png](attachment:image.png)"
      ]
    },
    {
      "cell_type": "markdown",
      "metadata": {
        "id": "kjSECJcYd6U0"
      },
      "source": [
        "![image.png](attachment:image.png)"
      ]
    },
    {
      "cell_type": "markdown",
      "metadata": {
        "id": "GnOpTVJkd6U0"
      },
      "source": [
        "## Numeric Differentiation"
      ]
    },
    {
      "cell_type": "markdown",
      "metadata": {
        "id": "8Ozu7pEId6U0"
      },
      "source": [
        "![image.png](attachment:image.png)"
      ]
    },
    {
      "cell_type": "code",
      "execution_count": null,
      "metadata": {
        "id": "N_WdxbBnd6U0"
      },
      "outputs": [],
      "source": [
        "# Slightly increase x and compute the result.\n",
        "# Then compute the ratio of change in result with change in x\n",
        "\n",
        "def diff(fn, x):\n",
        "    delta = 0.000000000001\n",
        "    y = fn(x)\n",
        "    x1 = x + delta\n",
        "    y1 = fn(x1)\n",
        "    return (y1 - y)/(x1 - x)"
      ]
    },
    {
      "cell_type": "code",
      "execution_count": null,
      "metadata": {
        "colab": {
          "base_uri": "https://localhost:8080/"
        },
        "id": "XVtjKBCnd6U1",
        "outputId": "d48418c5-01e6-44b6-95c2-33e514f29a97"
      },
      "outputs": [
        {
          "output_type": "execute_result",
          "data": {
            "text/plain": [
              "4.0"
            ]
          },
          "metadata": {},
          "execution_count": 14
        }
      ],
      "source": [
        "diff(sq, 2)"
      ]
    },
    {
      "cell_type": "code",
      "execution_count": null,
      "metadata": {
        "colab": {
          "base_uri": "https://localhost:8080/"
        },
        "id": "qRRMCF1Dd6U1",
        "outputId": "386d751d-9a38-4580-fcca-e0db346f4f4e"
      },
      "outputs": [
        {
          "output_type": "execute_result",
          "data": {
            "text/plain": [
              "4"
            ]
          },
          "metadata": {},
          "execution_count": 15
        }
      ],
      "source": [
        "x = 2\n",
        "2*x"
      ]
    },
    {
      "cell_type": "code",
      "execution_count": null,
      "metadata": {
        "colab": {
          "base_uri": "https://localhost:8080/"
        },
        "id": "WModSyH9d6U1",
        "outputId": "e2b1a938-cbd8-4e12-d3fa-38c8f7c565c2"
      },
      "outputs": [
        {
          "output_type": "execute_result",
          "data": {
            "text/plain": [
              "1000"
            ]
          },
          "metadata": {},
          "execution_count": 16
        }
      ],
      "source": [
        "def cb(x):\n",
        "    return x*x*x\n",
        "cb(10)"
      ]
    },
    {
      "cell_type": "code",
      "execution_count": null,
      "metadata": {
        "colab": {
          "base_uri": "https://localhost:8080/"
        },
        "id": "G6bIKbhsd6U1",
        "outputId": "00fe1a52-0c3a-4684-cfba-bf94aad12182"
      },
      "outputs": [
        {
          "output_type": "execute_result",
          "data": {
            "text/plain": [
              "12.0"
            ]
          },
          "metadata": {},
          "execution_count": 17
        }
      ],
      "source": [
        "diff(cb, 2)"
      ]
    },
    {
      "cell_type": "code",
      "execution_count": null,
      "metadata": {
        "colab": {
          "base_uri": "https://localhost:8080/"
        },
        "id": "xHdf4jNDd6U1",
        "outputId": "4136fca4-951c-406d-f13f-07f71186838d"
      },
      "outputs": [
        {
          "output_type": "execute_result",
          "data": {
            "text/plain": [
              "12"
            ]
          },
          "metadata": {},
          "execution_count": 18
        }
      ],
      "source": [
        "# If you know symbolic / algebric differentiation,\n",
        "# you would be knowing that the differentiation of an algebric function x^3 is 3*x^2.\n",
        "# The result that we computed above is same as the algebric differentiation\n",
        "x = 2\n",
        "3*x**2"
      ]
    },
    {
      "cell_type": "markdown",
      "metadata": {
        "id": "YID2itHrd6U1"
      },
      "source": [
        "## Partial Derivative\n",
        "\n",
        "If there is function which is taking multiple inputs, the rate of change of output could be computed with respect of any of the inputs.\n"
      ]
    },
    {
      "cell_type": "code",
      "execution_count": null,
      "metadata": {
        "colab": {
          "base_uri": "https://localhost:8080/"
        },
        "id": "K4Gp6b6Fd6U1",
        "outputId": "daa1e435-3ddb-4b05-bbb2-ee18d0bd38a0"
      },
      "outputs": [
        {
          "output_type": "stream",
          "name": "stdout",
          "text": [
            "5.002220859751105\n"
          ]
        }
      ],
      "source": [
        "\n",
        "# Here is a very simple function\n",
        "def fn(x1, x2):\n",
        "    return x1*5 + x2*x2\n",
        "\n",
        "# Lets calculate the rate of change of output of this function wrt x1\n",
        "x1 = 10\n",
        "x2 = 20\n",
        "delta_x = 0.000000000001\n",
        "\n",
        "delta_y = fn(x1+delta_x, x2) - fn(x1, x2)\n",
        "df_dx1 = delta_y / delta_x\n",
        "\n",
        "print(df_dx1)"
      ]
    },
    {
      "cell_type": "code",
      "execution_count": null,
      "metadata": {
        "colab": {
          "base_uri": "https://localhost:8080/"
        },
        "id": "C06sRn-Md6U2",
        "outputId": "16759b16-8288-4167-a5db-8b9c6627644d"
      },
      "outputs": [
        {
          "output_type": "stream",
          "name": "stdout",
          "text": [
            "39.960923459148034\n"
          ]
        }
      ],
      "source": [
        "# Now, lets calculate the rate of change of output of this function wrt x2\n",
        "\n",
        "delta_y = fn(x1, x2+delta_x) - fn(x1, x2)\n",
        "df_dx2 = delta_y / delta_x\n",
        "print(df_dx2)"
      ]
    },
    {
      "cell_type": "code",
      "execution_count": null,
      "metadata": {
        "id": "HO-sHum-d6U2"
      },
      "outputs": [],
      "source": [
        "import numpy as np\n",
        "\n",
        "# The first argument is the function,\n",
        "# second argument is the idx of the input with respect to which we are differentiating.\n",
        "# Third arguments is a variable arguments - there can be many values. The function is called with these values.\n",
        "\n",
        "def diffp(fn, idx, *args):\n",
        "    delta = 0.000000000001\n",
        "\n",
        "    # Call the underlying function with args as such\n",
        "    y = fn(*args)\n",
        "\n",
        "    # Now, increase only one input - at idx.\n",
        "    args = list(args)\n",
        "    args[idx] += delta\n",
        "\n",
        "    # Now, calulate the output after changing one of the inputs a little bit.\n",
        "    y1 = fn(*args)\n",
        "    return (y1 - y)/delta\n"
      ]
    },
    {
      "cell_type": "code",
      "execution_count": null,
      "metadata": {
        "colab": {
          "base_uri": "https://localhost:8080/"
        },
        "id": "X1eaPwvCd6U2",
        "outputId": "1ea2edca-4bc1-46be-ab02-4b66e9d742ae"
      },
      "outputs": [
        {
          "output_type": "stream",
          "name": "stdout",
          "text": [
            "5\n"
          ]
        },
        {
          "output_type": "execute_result",
          "data": {
            "text/plain": [
              "3.000266701747023"
            ]
          },
          "metadata": {},
          "execution_count": 22
        }
      ],
      "source": [
        "# Let us test it using a very simple function.\n",
        "# This function can be differentiated with respect to m, c or x.\n",
        "def line_y(m, c, x):\n",
        "    return m*x + c\n",
        "print(line_y(1,2,3))\n",
        "# Notice how we are passing the function as the first argument.\n",
        "# The second argument is the index of the value with respect to which we are differentiating\n",
        "# Remaining values are the values of the arguments to be passed while calling line_y\n",
        "diffp(line_y, 0, 1, 2, 3) # differentiate wrt m"
      ]
    },
    {
      "cell_type": "code",
      "execution_count": null,
      "metadata": {
        "colab": {
          "base_uri": "https://localhost:8080/"
        },
        "id": "yg-ZJZ5xd6U2",
        "outputId": "c552cac5-0337-4993-ea57-7beed8731084"
      },
      "outputs": [
        {
          "output_type": "execute_result",
          "data": {
            "text/plain": [
              "1.000088900582341"
            ]
          },
          "metadata": {},
          "execution_count": 23
        }
      ],
      "source": [
        "diffp(line_y, 1, 1, 2, 3) # differentiate wrt c"
      ]
    },
    {
      "cell_type": "code",
      "execution_count": null,
      "metadata": {
        "colab": {
          "base_uri": "https://localhost:8080/"
        },
        "id": "1W5K7tHTd6U2",
        "outputId": "476e56dc-2cb1-4604-edbd-e2c27886de22"
      },
      "outputs": [
        {
          "output_type": "execute_result",
          "data": {
            "text/plain": [
              "1.000088900582341"
            ]
          },
          "metadata": {},
          "execution_count": 24
        }
      ],
      "source": [
        "diffp(line_y, 2, 1, 2, 3) # differentiate wrt x"
      ]
    },
    {
      "cell_type": "markdown",
      "metadata": {
        "id": "qWePP5YMd6U2"
      },
      "source": [
        "## Chain Rule\n",
        "\n"
      ]
    },
    {
      "cell_type": "code",
      "execution_count": null,
      "metadata": {
        "colab": {
          "base_uri": "https://localhost:8080/"
        },
        "id": "e5lkPY3md6U8",
        "outputId": "0457b5ce-cf70-4c5a-e0f6-0082ebe71bea"
      },
      "outputs": [
        {
          "output_type": "execute_result",
          "data": {
            "text/plain": [
              "4.000355602329364"
            ]
          },
          "metadata": {},
          "execution_count": 25
        }
      ],
      "source": [
        "x = 2\n",
        "dt_dx = diffp(sq, 0, x)\n",
        "dt_dx"
      ]
    },
    {
      "cell_type": "code",
      "execution_count": null,
      "metadata": {
        "id": "f6s-q3g3d6U8"
      },
      "outputs": [],
      "source": [
        "t = sq(2)\n",
        "dy_dt = diffp(cb, 0, t)"
      ]
    },
    {
      "cell_type": "code",
      "execution_count": null,
      "metadata": {
        "colab": {
          "base_uri": "https://localhost:8080/"
        },
        "id": "EFvib-Hpd6U8",
        "outputId": "971793e9-890e-4cd2-cfe6-4af309723a54"
      },
      "outputs": [
        {
          "output_type": "execute_result",
          "data": {
            "text/plain": [
              "192.03413934105515"
            ]
          },
          "metadata": {},
          "execution_count": 27
        }
      ],
      "source": [
        "dt_dx * dy_dt"
      ]
    },
    {
      "cell_type": "markdown",
      "metadata": {
        "id": "RZXwyq4Yd6U8"
      },
      "source": [
        "# Gradient descent\n",
        "\n",
        "When we have a function and we want to find out at what point this function would attain a minima or maxima.\n",
        "See more here: https://youtu.be/4Cu9fizAtAo"
      ]
    },
    {
      "cell_type": "code",
      "execution_count": null,
      "metadata": {
        "id": "ypVNUiy6d6U8"
      },
      "outputs": [],
      "source": [
        "# Let us first generate some data\n",
        "\n",
        "import numpy as np\n",
        "\n",
        "# Generate 100 random numbers\n",
        "X = 2*np.random.random((100, 1))"
      ]
    },
    {
      "cell_type": "code",
      "execution_count": null,
      "metadata": {
        "id": "N1jL1qqgd6U9"
      },
      "outputs": [],
      "source": [
        "# Now, let us generate the values of y corresponding to a line with slope 3 and intercept 4\n",
        "# plus some noise\n",
        "y = 4 + 3 * X + .3*np.random.randn(100, 1)"
      ]
    },
    {
      "cell_type": "code",
      "execution_count": null,
      "metadata": {
        "colab": {
          "base_uri": "https://localhost:8080/"
        },
        "id": "DutH6rEod6U9",
        "outputId": "3c7113ab-5e4c-4662-fdf7-df76d128a383"
      },
      "outputs": [
        {
          "output_type": "execute_result",
          "data": {
            "text/plain": [
              "array([[6.82138632],\n",
              "       [6.18152436],\n",
              "       [9.40032635]])"
            ]
          },
          "metadata": {},
          "execution_count": 30
        }
      ],
      "source": [
        "# Let us take a look at first three records\n",
        "y[0:3]"
      ]
    },
    {
      "cell_type": "code",
      "execution_count": null,
      "metadata": {
        "colab": {
          "base_uri": "https://localhost:8080/"
        },
        "id": "0z95MxiMd6U9",
        "outputId": "bc77578b-ccdb-493a-d54b-85a5bb4af212"
      },
      "outputs": [
        {
          "output_type": "execute_result",
          "data": {
            "text/plain": [
              "array([[1.01629132],\n",
              "       [0.62518561],\n",
              "       [1.58103881]])"
            ]
          },
          "metadata": {},
          "execution_count": 31
        }
      ],
      "source": [
        "X[0:3]"
      ]
    },
    {
      "cell_type": "code",
      "execution_count": null,
      "metadata": {
        "colab": {
          "base_uri": "https://localhost:8080/"
        },
        "id": "8NUQBznXd6U9",
        "outputId": "59ed4fc4-fe76-485f-9a59-b5417994cb3d"
      },
      "outputs": [
        {
          "output_type": "execute_result",
          "data": {
            "text/plain": [
              "array([[7.04887395],\n",
              "       [5.87555682],\n",
              "       [8.74311643]])"
            ]
          },
          "metadata": {},
          "execution_count": 32
        }
      ],
      "source": [
        "4+3*X[0:3]"
      ]
    },
    {
      "cell_type": "code",
      "execution_count": null,
      "metadata": {
        "scrolled": true,
        "colab": {
          "base_uri": "https://localhost:8080/",
          "height": 368
        },
        "id": "RpdkDi7pd6U-",
        "outputId": "2d7ac0a3-510c-4280-c532-b780ba24c4ff"
      },
      "outputs": [
        {
          "output_type": "display_data",
          "data": {
            "text/plain": [
              "<Figure size 1100x400 with 1 Axes>"
            ],
            "image/png": "[encoded data removed]"
          },
          "metadata": {}
        }
      ],
      "source": [
        "# Let us plot it using matplotlib\n",
        "\n",
        "from matplotlib import pyplot as plt\n",
        "\n",
        "plt.figure(figsize=(11,4))\n",
        "plt.scatter(X, y)\n",
        "plt.show()\n",
        "\n",
        "# horizontal axis is x and vertical axis is y"
      ]
    },
    {
      "cell_type": "code",
      "execution_count": null,
      "metadata": {
        "id": "1Wmd7kfNd6U-"
      },
      "outputs": [],
      "source": [
        "def error(m, c, X, y):\n",
        "    ypred = m*X + c\n",
        "    err = ypred-y\n",
        "    return np.sum(err*err)"
      ]
    },
    {
      "cell_type": "code",
      "execution_count": null,
      "metadata": {
        "colab": {
          "base_uri": "https://localhost:8080/"
        },
        "id": "qULJZvIqd6U-",
        "outputId": "70305ad6-dbf8-462a-dfab-9543006b20c1"
      },
      "outputs": [
        {
          "output_type": "execute_result",
          "data": {
            "text/plain": [
              "200"
            ]
          },
          "metadata": {},
          "execution_count": 35
        }
      ],
      "source": [
        "error(3, 4, np.array([1,2,3]), np.array([1,2,3]))"
      ]
    },
    {
      "cell_type": "code",
      "execution_count": null,
      "metadata": {
        "colab": {
          "base_uri": "https://localhost:8080/"
        },
        "id": "ulPfHIW2d6U-",
        "outputId": "f3c82dea-e8f1-46d8-988a-cd888c06bcfa"
      },
      "outputs": [
        {
          "output_type": "execute_result",
          "data": {
            "text/plain": [
              "8.088547771029273"
            ]
          },
          "metadata": {},
          "execution_count": 36
        }
      ],
      "source": [
        "error(3, 4, X, y)"
      ]
    },
    {
      "cell_type": "code",
      "execution_count": null,
      "metadata": {
        "colab": {
          "base_uri": "https://localhost:8080/"
        },
        "id": "twwMUijfd6U-",
        "outputId": "1e21e154-883c-40fe-8c78-2c2d0802fbbf"
      },
      "outputs": [
        {
          "output_type": "execute_result",
          "data": {
            "text/plain": [
              "8.292633035156893"
            ]
          },
          "metadata": {},
          "execution_count": 37
        }
      ],
      "source": [
        "error(3.04, 4, X, y)"
      ]
    },
    {
      "cell_type": "markdown",
      "metadata": {
        "id": "ohn_n_7Nd6U_"
      },
      "source": [
        "![image.png](attachment:image.png)"
      ]
    },
    {
      "cell_type": "code",
      "execution_count": null,
      "metadata": {
        "id": "il6UWMYpd6U_"
      },
      "outputs": [],
      "source": [
        "def grad_fit(X, y):\n",
        "    m = np.random.random()\n",
        "    c = np.random.random()\n",
        "    learning_rate = 0.001\n",
        "    for i in range(100):\n",
        "        print(\"i: \", i, \" Error: \", error(m, c, X, y),\"m=\",m,\"c=\",c)\n",
        "        dE_dm = diffp(error, 0, m, c, X, y)\n",
        "        dE_dc = diffp(error, 1, m, c, X, y)\n",
        "\n",
        "        m = m - learning_rate * dE_dm\n",
        "        c = c - learning_rate * dE_dc\n",
        "    return (m, c)"
      ]
    },
    {
      "cell_type": "code",
      "execution_count": null,
      "metadata": {
        "scrolled": true,
        "colab": {
          "base_uri": "https://localhost:8080/"
        },
        "id": "fv8lo07yd6U_",
        "outputId": "b73a6035-3def-4091-b48d-cd53f1732198"
      },
      "outputs": [
        {
          "output_type": "stream",
          "name": "stdout",
          "text": [
            "i:  0  Error:  3499.749994776428 m= 0.6511185281091418 c= 0.65662202718627\n",
            "i:  1  Error:  1078.3824982163887 m= 1.993532707925984 c= 1.805768582876365\n",
            "i:  2  Error:  342.12952139284437 m= 2.7254485691777477 c= 2.448553963354382\n",
            "i:  3  Error:  117.7021713453247 m= 3.121533511799858 c= 2.8122381572258317\n",
            "i:  4  Error:  48.98993391796868 m= 3.332593126030038 c= 3.0216493123090484\n",
            "i:  5  Error:  27.651066267543246 m= 3.441846177080511 c= 3.145724284827477\n",
            "i:  6  Error:  20.74114685660594 m= 3.49516175125827 c= 3.2225090855673924\n",
            "i:  7  Error:  18.24312620099458 m= 3.517831617242696 c= 3.272964725233717\n",
            "i:  8  Error:  17.10960017867185 m= 3.5238108343641175 c= 3.3086588395646257\n",
            "i:  9  Error:  16.412693896393616 m= 3.520794580450816 c= 3.335989865895638\n",
            "i:  10  Error:  15.869209089382068 m= 3.512971504930097 c= 3.3584678853414087\n",
            "i:  11  Error:  15.3918801890863 m= 3.5027201496099183 c= 3.3780611012799935\n",
            "i:  12  Error:  14.952807651055473 m= 3.491285740634699 c= 3.395847762312908\n",
            "i:  13  Error:  14.542522467861831 m= 3.479366386242323 c= 3.41242827705187\n",
            "i:  14  Error:  14.157278096133881 m= 3.467359990364817 c= 3.4281454823668835\n",
            "i:  15  Error:  13.79484231612713 m= 3.4554548468271564 c= 3.4431858957260855\n",
            "i:  16  Error:  13.453666027306221 m= 3.4437646424670634 c= 3.4576667566808763\n",
            "i:  17  Error:  13.132476223039912 m= 3.4323515497739168 c= 3.471659119504832\n",
            "i:  18  Error:  12.830075976987423 m= 3.421240437743468 c= 3.4852056167620984\n",
            "i:  19  Error:  12.545416603502868 m= 3.410433082732557 c= 3.4983240120210692\n",
            "i:  20  Error:  12.277218986284966 m= 3.3999206029569864 c= 3.511046279704854\n",
            "i:  21  Error:  12.02478509451953 m= 3.38972076198515 c= 3.523384854311328\n",
            "i:  22  Error:  11.78715935732657 m= 3.3798246780328514 c= 3.535353946695207\n",
            "i:  23  Error:  11.563391461578192 m= 3.3702163638885354 c= 3.5469659913543663\n",
            "i:  24  Error:  11.352701555535532 m= 3.360890490481684 c= 3.5582316464298427\n",
            "i:  25  Error:  11.154363644235456 m= 3.3518435050986186 c= 3.5691615700626724\n",
            "i:  26  Error:  10.967574383505198 m= 3.343062973241463 c= 3.5797699731075707\n",
            "i:  27  Error:  10.791724700282577 m= 3.3345435658396996 c= 3.5900621846350558\n",
            "i:  28  Error:  10.626118009582605 m= 3.326276401109131 c= 3.600052415499843\n",
            "i:  29  Error:  10.470258724064726 m= 3.3182561499792387 c= 3.6097406657019317\n",
            "i:  30  Error:  10.323497260750973 m= 3.310473930665826 c= 3.6191429224528773\n",
            "i:  31  Error:  10.185306848042778 m= 3.3029173086710175 c= 3.628262738466358\n",
            "i:  32  Error:  10.055181797497784 m= 3.295588060351652 c= 3.637116100953929\n",
            "i:  33  Error:  9.932682639151611 m= 3.2884808566372117 c= 3.645708338986108\n",
            "i:  34  Error:  9.817359717466198 m= 3.281581486672981 c= 3.6540412289197346\n",
            "i:  35  Error:  9.708802226222904 m= 3.2748952795294786 c= 3.6621307579663633\n",
            "i:  36  Error:  9.606508812221493 m= 3.2683884844267554 c= 3.669975149769155\n",
            "i:  37  Error:  9.510203578341617 m= 3.2620824176468846 c= 3.677592167896503\n",
            "i:  38  Error:  9.419527023339628 m= 3.255959315621472 c= 3.6849800359915688\n",
            "i:  39  Error:  9.33416054919419 m= 3.2500245074210357 c= 3.692152964909067\n",
            "i:  40  Error:  9.253829855437846 m= 3.244269111261379 c= 3.6991091782921584\n",
            "i:  41  Error:  9.17813871828331 m= 3.2386789162877863 c= 3.705862886995558\n",
            "i:  42  Error:  9.106901905254468 m= 3.2332574752139367 c= 3.7124140910192662\n",
            "i:  43  Error:  9.039830745099392 m= 3.227995906255633 c= 3.7187698957906403\n",
            "i:  44  Error:  8.976695485348127 m= 3.222895985769715 c= 3.7249391830938774\n",
            "i:  45  Error:  8.917224618548458 m= 3.2179399501877883 c= 3.730923729285817\n",
            "i:  46  Error:  8.861224530767455 m= 3.2131295758666925 c= 3.7367306397938163\n",
            "i:  47  Error:  8.808478086533881 m= 3.208459533735909 c= 3.7423670200452333\n",
            "i:  48  Error:  8.758863183339159 m= 3.203936929222796 c= 3.747834646396907\n",
            "i:  49  Error:  8.712126078605035 m= 3.1995439987589593 c= 3.7531406242761958\n",
            "i:  50  Error:  8.668120458542028 m= 3.195282518701238 c= 3.758290282753617\n",
            "i:  51  Error:  8.626710564423405 m= 3.1911489363359538 c= 3.763283621829171\n",
            "i:  52  Error:  8.587695164838957 m= 3.187134369878909 c= 3.7681312996438945\n",
            "i:  53  Error:  8.55098091476375 m= 3.1832441484006226 c= 3.7728350925546263\n",
            "i:  54  Error:  8.516385028260723 m= 3.1794587319758607 c= 3.777396776918206\n",
            "i:  55  Error:  8.483821880176246 m= 3.17578877874566 c= 3.7818234581619916\n",
            "i:  56  Error:  8.453190576484388 m= 3.1722378414236987 c= 3.786120465356501\n",
            "i:  57  Error:  8.42432412974597 m= 3.168786380084744 c= 3.7902913512154126\n",
            "i:  58  Error:  8.397154295965898 m= 3.1654415001561533 c= 3.794339668452406\n",
            "i:  59  Error:  8.371578338417837 m= 3.1621925434968903 c= 3.798263640710641\n",
            "i:  60  Error:  8.347505394872668 m= 3.159039510106955 c= 3.8020685970606363\n",
            "i:  61  Error:  8.324831112941476 m= 3.1559806236295076 c= 3.805763419286589\n",
            "i:  62  Error:  8.303482343430229 m= 3.153014107707709 c= 3.809349883745338\n",
            "i:  63  Error:  8.283375280271025 m= 3.1501310805573626 c= 3.8128279904368836\n",
            "i:  64  Error:  8.264454766420075 m= 3.147342200319504 c= 3.816206621145423\n",
            "i:  65  Error:  8.246608667376 m= 3.144620821641543 c= 3.819482223157277\n",
            "i:  66  Error:  8.22984220212088 m= 3.14199358987607 c= 3.822660125542964\n",
            "i:  67  Error:  8.21404665784611 m= 3.139440965097852 c= 3.825743881016163\n",
            "i:  68  Error:  8.19913298216103 m= 3.136952289165852 c= 3.828740595004231\n",
            "i:  69  Error:  8.185127656705264 m= 3.134550654718983 c= 3.83164671479349\n",
            "i:  70  Error:  8.171941910872043 m= 3.1322218509025292 c= 3.8344675694544574\n",
            "i:  71  Error:  8.159503303635105 m= 3.1299516668617757 c= 3.8372049353439732\n",
            "i:  72  Error:  8.147817510202112 m= 3.1277578661651164 c= 3.839858812462037\n",
            "i:  73  Error:  8.136807184272106 m= 3.125626237957836 c= 3.8424345298791676\n",
            "i:  74  Error:  8.12644617702683 m= 3.1235585585967742 c= 3.8449320875953643\n",
            "i:  75  Error:  8.116674792178452 m= 3.121547722654573 c= 3.847358591037985\n",
            "i:  76  Error:  8.107488350634325 m= 3.11960261191543 c= 3.8497122638501904\n",
            "i:  77  Error:  8.098839993494753 m= 3.1177143445951474 c= 3.8519948823888197\n",
            "i:  78  Error:  8.090688611211162 m= 3.1158775916232075 c= 3.854209999367552\n",
            "i:  79  Error:  8.08302040867764 m= 3.1141012347838073 c= 3.8563611675000655\n",
            "i:  80  Error:  8.075805890860888 m= 3.1123763922927496 c= 3.858444834072682\n",
            "i:  81  Error:  8.069010093119036 m= 3.110704840506874 c= 3.8604698808695983\n",
            "i:  82  Error:  8.062610059222546 m= 3.109079473998823 c= 3.8624327551771356\n",
            "i:  83  Error:  8.056576804600478 m= 3.1074949636980778 c= 3.8643352333521332\n",
            "i:  84  Error:  8.050902721973072 m= 3.105965520459354 c= 3.866184420821949\n",
            "i:  85  Error:  8.045554141195998 m= 3.1044769334279367 c= 3.867978541229743\n",
            "i:  86  Error:  8.040520791121097 m= 3.103036308031183 c= 3.869721147289195\n",
            "i:  87  Error:  8.035789035715379 m= 3.101641867912254 c= 3.8714104626434644\n",
            "i:  88  Error:  8.031328263636961 m= 3.1002829549301127 c= 3.8730482636493915\n",
            "i:  89  Error:  8.027130270705173 m= 3.098966674512117 c= 3.8746381030206547\n",
            "i:  90  Error:  8.023178869001045 m= 3.0976894739445884 c= 3.876179980757254\n",
            "i:  91  Error:  8.019455735979337 m= 3.096449576870687 c= 3.8776774495728685\n",
            "i:  92  Error:  8.015950836140084 m= 3.095246983290413 c= 3.879130509467498\n",
            "i:  93  Error:  8.012654433580815 m= 3.0940816932037665 c= 3.8805391604411423\n",
            "i:  94  Error:  8.009554334656416 m= 3.0929554829675867 c= 3.8819069552074805\n",
            "i:  95  Error:  8.006632551391979 m= 3.0918576944408374 c= 3.883232117409673\n",
            "i:  96  Error:  8.00387094483221 m= 3.0907847749098396 c= 3.8845199761182383\n",
            "i:  97  Error:  8.001279295507914 m= 3.0897509352293087 c= 3.8857687549763367\n",
            "i:  98  Error:  7.99884100354712 m= 3.0887472936150475 c= 3.8869784539839682\n",
            "i:  99  Error:  7.996542236951711 m= 3.0877729618886365 c= 3.888154402211651\n"
          ]
        }
      ],
      "source": [
        "m, c = grad_fit(X, y)"
      ]
    },
    {
      "cell_type": "code",
      "execution_count": null,
      "metadata": {
        "colab": {
          "base_uri": "https://localhost:8080/"
        },
        "id": "JDyP7c_Vd6VA",
        "outputId": "93cbaa37-2e93-4a4c-ee60-8adb3e385754"
      },
      "outputs": [
        {
          "output_type": "execute_result",
          "data": {
            "text/plain": [
              "(3.0868243873363967, 3.889295711480966)"
            ]
          },
          "metadata": {},
          "execution_count": 40
        }
      ],
      "source": [
        "m, c"
      ]
    },
    {
      "cell_type": "code",
      "execution_count": null,
      "metadata": {
        "colab": {
          "base_uri": "https://localhost:8080/",
          "height": 368
        },
        "id": "balCNHFmd6VA",
        "outputId": "3db8c1b8-404c-43d1-fc58-df32552f7674"
      },
      "outputs": [
        {
          "output_type": "display_data",
          "data": {
            "text/plain": [
              "<Figure size 1100x400 with 1 Axes>"
            ],
            "image/png": "[encoded data removed]"
          },
          "metadata": {}
        }
      ],
      "source": [
        "from matplotlib import pyplot as plt\n",
        "\n",
        "x1 = 0\n",
        "x2 = 2\n",
        "\n",
        "y1 = m*x1 + c\n",
        "y2 = m*x2 + c\n",
        "\n",
        "ycap = m*X + c\n",
        "plt.figure(figsize=(11,4))\n",
        "plt.subplot()\n",
        "\n",
        "# plt.scatter(X, ycap, color='r')\n",
        "plt.plot([x1, x2], [y1, y2], color = 'r')\n",
        "plt.subplot()\n",
        "plt.scatter(X, y, color='b')\n",
        "plt.show()"
      ]
    },
    {
      "cell_type": "code",
      "source": [
        "# Compute theta hat\n",
        "\n",
        "# Apply the normal equation\n",
        "# inv() function from NumPy’s Linear Algebra module (np.linalg) to compute the inverse of a matrix\n",
        "# the dot() method for matrix multiplication\n",
        "\n",
        "theta_best = np.linalg.inv(X.T.dot(X)).dot(X.T).dot(y)\n",
        "theta_best"
      ],
      "metadata": {
        "colab": {
          "base_uri": "https://localhost:8080/"
        },
        "id": "BKT9gmIRFCm5",
        "outputId": "bd6338a9-1666-445d-ccd3-dd3092aafa0b"
      },
      "execution_count": null,
      "outputs": [
        {
          "output_type": "execute_result",
          "data": {
            "text/plain": [
              "array([[5.95988729]])"
            ]
          },
          "metadata": {},
          "execution_count": 42
        }
      ]
    },
    {
      "cell_type": "code",
      "execution_count": null,
      "metadata": {
        "id": "bpUkqRrOd6VC"
      },
      "outputs": [],
      "source": []
    }
  ],
  "metadata": {
    "kernelspec": {
      "display_name": "Python 3",
      "language": "python",
      "name": "python3"
    },
    "language_info": {
      "codemirror_mode": {
        "name": "ipython",
        "version": 3
      },
      "file_extension": ".py",
      "mimetype": "text/x-python",
      "name": "python",
      "nbconvert_exporter": "python",
      "pygments_lexer": "ipython3",
      "version": "3.6.8"
    },
    "toc": {
      "base_numbering": 1,
      "nav_menu": {},
      "number_sections": true,
      "sideBar": true,
      "skip_h1_title": false,
      "title_cell": "Table of Contents",
      "title_sidebar": "Contents",
      "toc_cell": false,
      "toc_position": {},
      "toc_section_display": true,
      "toc_window_display": false
    },
    "colab": {
      "provenance": []
    }
  },
  "nbformat": 4,
  "nbformat_minor": 0
}