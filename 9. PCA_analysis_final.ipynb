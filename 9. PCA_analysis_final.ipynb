{
  "nbformat": 4,
  "nbformat_minor": 0,
  "metadata": {
    "colab": {
      "provenance": []
    },
    "kernelspec": {
      "name": "python3",
      "display_name": "Python 3"
    },
    "language_info": {
      "name": "python"
    }
  },
  "cells": [
    {
      "cell_type": "markdown",
      "source": [
        "## upload all the necessary files.\n",
        "1.  **numpy :** it is used for numerical operations in Python.\n",
        "2. **pandas** : for data manipulation and analysis.\n",
        "3. **sklearn.decomposition  PCA**: Import the PCA class from scikit-learn for performing Principal Component Analysis.\n",
        "4. **matplotlib**: Import the matplotlib library for creating plots and visualizations.\n",
        "5. **seaborn**: Import the seaborn library for improved data visualization.\n",
        "6. **train_test_split**:  to split the dataset into training and testing sets.\n",
        "7. **DecisionTreeClassifier**: for building a decision tree model.\n",
        "8. **classification_report, accuracy_score, confusion_matrix**: Import metrics for evaluating the classifier's performance."
      ],
      "metadata": {
        "id": "Wgs7HP_kZ9-X"
      }
    },
    {
      "cell_type": "code",
      "execution_count": null,
      "metadata": {
        "id": "fLGY2-YMQdRe"
      },
      "outputs": [],
      "source": [
        "import numpy as np\n",
        "import pandas as pd\n",
        "from sklearn.decomposition import PCA\n",
        "\n",
        "import matplotlib.pyplot as plt\n",
        "import seaborn as sns\n",
        "%matplotlib inline\n",
        "\n",
        "from sklearn.model_selection import train_test_split\n",
        "from sklearn.tree import DecisionTreeClassifier\n",
        "from sklearn.metrics import classification_report,accuracy_score,confusion_matrix"
      ]
    },
    {
      "cell_type": "markdown",
      "source": [
        "# **upload the iris dataset**\n",
        "** Load the Iris dataset into the digits variable.**"
      ],
      "metadata": {
        "id": "0nIWHcNmaLqN"
      }
    },
    {
      "cell_type": "code",
      "source": [
        "from sklearn.datasets import load_iris\n",
        "digits = load_iris()"
      ],
      "metadata": {
        "id": "dLJIv3JiQrhM"
      },
      "execution_count": null,
      "outputs": []
    },
    {
      "cell_type": "markdown",
      "source": [
        "**Create a DataFrame named data1 containing the features of the Iris dataset.**"
      ],
      "metadata": {
        "id": "I86f-A8acO5k"
      }
    },
    {
      "cell_type": "code",
      "source": [
        "data1=pd.DataFrame(digits.data)"
      ],
      "metadata": {
        "id": "cEQW63jkQ3LQ"
      },
      "execution_count": null,
      "outputs": []
    },
    {
      "cell_type": "markdown",
      "source": [
        "**1. Assign the features to the x variable.**\n",
        "**2. Assign the target labels to the y variable.**"
      ],
      "metadata": {
        "id": "ALZbXlIKcwjd"
      }
    },
    {
      "cell_type": "code",
      "source": [
        "x=digits.data\n",
        "y=digits.target"
      ],
      "metadata": {
        "id": "JuFGlv8OQ9_0"
      },
      "execution_count": null,
      "outputs": []
    },
    {
      "cell_type": "markdown",
      "source": [
        "**size of the IRIS dataset**"
      ],
      "metadata": {
        "id": "NDroSexndrmB"
      }
    },
    {
      "cell_type": "code",
      "source": [
        "\n",
        "x.shape"
      ],
      "metadata": {
        "colab": {
          "base_uri": "https://localhost:8080/"
        },
        "id": "PJVpHJrMQ_iq",
        "outputId": "2693aa13-0246-4011-a6ee-9e3d3614e85f"
      },
      "execution_count": null,
      "outputs": [
        {
          "output_type": "execute_result",
          "data": {
            "text/plain": [
              "(150, 4)"
            ]
          },
          "metadata": {},
          "execution_count": 5
        }
      ]
    },
    {
      "cell_type": "code",
      "source": [
        "y.shape"
      ],
      "metadata": {
        "colab": {
          "base_uri": "https://localhost:8080/"
        },
        "id": "XUmDLkmaRDFv",
        "outputId": "51c1678a-e4ad-4987-c62a-43065d844e95"
      },
      "execution_count": null,
      "outputs": [
        {
          "output_type": "execute_result",
          "data": {
            "text/plain": [
              "(150,)"
            ]
          },
          "metadata": {},
          "execution_count": 6
        }
      ]
    },
    {
      "cell_type": "markdown",
      "source": [
        "**Standardize the features using 'StandardScaler'.**\n"
      ],
      "metadata": {
        "id": "ABnOjffmd4gx"
      }
    },
    {
      "cell_type": "code",
      "source": [
        "from sklearn.preprocessing import StandardScaler\n",
        "\n",
        "# Data Normalization\n",
        "X_std = StandardScaler().fit_transform(x)\n",
        "X_std.shape"
      ],
      "metadata": {
        "id": "3b3n0HlERIdm",
        "colab": {
          "base_uri": "https://localhost:8080/"
        },
        "outputId": "43231b3b-f70b-4f08-d1cf-c9cb3234512b"
      },
      "execution_count": null,
      "outputs": [
        {
          "output_type": "execute_result",
          "data": {
            "text/plain": [
              "(150, 4)"
            ]
          },
          "metadata": {},
          "execution_count": 7
        }
      ]
    },
    {
      "cell_type": "markdown",
      "source": [
        "**The mean vector and covariance matrix for the standardized features.**\n",
        "**eigenvalues and eigenvectors from the covariance matrix.**"
      ],
      "metadata": {
        "id": "YU2hhkK8eKVQ"
      }
    },
    {
      "cell_type": "code",
      "source": [
        "mean_vec = np.mean(X_std, axis=0)\n",
        "print(mean_vec)\n",
        "cov_mat = np.cov(X_std.T)\n",
        "print(cov_mat.shape)\n",
        "eig_vals, eig_vecs = np.linalg.eig(cov_mat)\n",
        "print(eig_vals)"
      ],
      "metadata": {
        "id": "lc2JUCS8RNPh",
        "colab": {
          "base_uri": "https://localhost:8080/"
        },
        "outputId": "bb1fac12-1893-46b5-e7f4-553f224085c9"
      },
      "execution_count": null,
      "outputs": [
        {
          "output_type": "stream",
          "name": "stdout",
          "text": [
            "[-1.69031455e-15 -1.84297022e-15 -1.69864123e-15 -1.40924309e-15]\n",
            "(4, 4)\n",
            "[2.93808505 0.9201649  0.14774182 0.02085386]\n"
          ]
        }
      ]
    },
    {
      "cell_type": "code",
      "source": [
        "# Create a list of (eigenvalue, eigenvector) tuples\n",
        "eig_pairs = [ (np.abs(eig_vals[i]),eig_vecs[:,i]) for i in range(len(eig_vals))]"
      ],
      "metadata": {
        "id": "qJQdghtSRSvl"
      },
      "execution_count": null,
      "outputs": []
    },
    {
      "cell_type": "markdown",
      "source": [
        "**Create a list of eigenvalue-eigenvector pairs and sort them in descending order of eigenvalues.**"
      ],
      "metadata": {
        "id": "Oohb0BVRe1XE"
      }
    },
    {
      "cell_type": "code",
      "source": [
        "\n",
        "# Sort from high to low\n",
        "eig_pairs.sort(key = lambda x: x[0], reverse= True)\n",
        "print(eig_pairs)"
      ],
      "metadata": {
        "id": "FbkTDLqJRX4K",
        "colab": {
          "base_uri": "https://localhost:8080/"
        },
        "outputId": "d3161292-572f-4dc9-fa42-cad652eb55ae"
      },
      "execution_count": null,
      "outputs": [
        {
          "output_type": "stream",
          "name": "stdout",
          "text": [
            "[(2.938085050199995, array([ 0.52106591, -0.26934744,  0.5804131 ,  0.56485654])), (0.9201649041624864, array([-0.37741762, -0.92329566, -0.02449161, -0.06694199])), (0.1477418210449475, array([-0.71956635,  0.24438178,  0.14212637,  0.63427274])), (0.020853862176462696, array([ 0.26128628, -0.12350962, -0.80144925,  0.52359713]))]\n"
          ]
        }
      ]
    },
    {
      "cell_type": "markdown",
      "source": [
        "**Calculate individual explained variance and cumulative explained variance from eigenvalues.**"
      ],
      "metadata": {
        "id": "VAIbwcYFfBzv"
      }
    },
    {
      "cell_type": "code",
      "source": [
        "# Calculation of Explained Variance from the eigenvalues\n",
        "tot = sum(eig_vals)\n",
        "var_exp = [(i/tot)*100 for i in sorted(eig_vals, reverse=True)] # Individual explained variance\n",
        "cum_var_exp = np.cumsum(var_exp) # Cumulative explained variance\n",
        "cum_var_exp"
      ],
      "metadata": {
        "colab": {
          "base_uri": "https://localhost:8080/"
        },
        "id": "j5zJTUbiRh56",
        "outputId": "8e620391-7275-4462-c02c-29078848481f"
      },
      "execution_count": null,
      "outputs": [
        {
          "output_type": "execute_result",
          "data": {
            "text/plain": [
              "array([ 72.96244541,  95.8132072 ,  99.48212909, 100.        ])"
            ]
          },
          "metadata": {},
          "execution_count": 11
        }
      ]
    },
    {
      "cell_type": "markdown",
      "source": [
        "**Create a bar plot of individual and cumulative explained variance.**"
      ],
      "metadata": {
        "id": "SqfHsTp8fWl6"
      }
    },
    {
      "cell_type": "code",
      "source": [
        "\n",
        "plt.figure(figsize=(10, 5))\n",
        "plt.bar(range(len(var_exp)), var_exp, alpha=0.3333, align='center', label='individual explained variance', color = 'g')\n",
        "plt.step(range(len(cum_var_exp)), cum_var_exp, where='mid',label='cumulative explained variance')\n",
        "plt.ylabel('Explained variance ratio')\n",
        "plt.xlabel('Principal components')\n",
        "plt.legend(loc='best')\n",
        "plt.show()"
      ],
      "metadata": {
        "colab": {
          "base_uri": "https://localhost:8080/",
          "height": 465
        },
        "id": "pQ2etvZiRkFL",
        "outputId": "b079f367-8c09-4629-833c-127d0c03fbdf"
      },
      "execution_count": null,
      "outputs": [
        {
          "output_type": "display_data",
          "data": {
            "text/plain": [
              "<Figure size 1000x500 with 1 Axes>"
            ],
            "image/png": "[encoded data removed]"
          },
          "metadata": {}
        }
      ]
    },
    {
      "cell_type": "markdown",
      "source": [
        "**Split the data into training and testing sets using** **train_test_split**."
      ],
      "metadata": {
        "id": "KdLiDD9efb_v"
      }
    },
    {
      "cell_type": "code",
      "source": [
        "\n",
        "x_train,x_test,y_train,y_test=train_test_split(X_std,y)"
      ],
      "metadata": {
        "id": "4UFTlQkLRq1S"
      },
      "execution_count": null,
      "outputs": []
    },
    {
      "cell_type": "markdown",
      "source": [
        "**Create a PCA object with n_components set to 3 and transform the training and testing data using PCA.**"
      ],
      "metadata": {
        "id": "RjNKVPZJfwis"
      }
    },
    {
      "cell_type": "code",
      "source": [
        "#Initiate PCA\n",
        "pca = PCA(n_components=2)# 2 or 3\n",
        "pca_x_train = pca.fit_transform(x_train)\n",
        "pca_x_test = pca.transform(x_test)#unsupervised"
      ],
      "metadata": {
        "id": "M7H2pLJCR4dv"
      },
      "execution_count": null,
      "outputs": []
    },
    {
      "cell_type": "markdown",
      "source": [
        "**Create a Decision Tree classifier (rf) and fit it to the PCA-transformed training data.**"
      ],
      "metadata": {
        "id": "EKFKZwCnf3F-"
      }
    },
    {
      "cell_type": "code",
      "source": [
        "rf=DecisionTreeClassifier().fit(pca_x_train,y_train)#supervised"
      ],
      "metadata": {
        "id": "ErH5SO1wR9xo"
      },
      "execution_count": null,
      "outputs": []
    },
    {
      "cell_type": "markdown",
      "source": [
        "**Predict the labels using the classifier on the PCA-transformed testing data.**"
      ],
      "metadata": {
        "id": "D6eyqjjhgCeo"
      }
    },
    {
      "cell_type": "code",
      "source": [
        "predicted=rf.predict(pca_x_test)"
      ],
      "metadata": {
        "id": "O4ETCt4oR_Lv"
      },
      "execution_count": null,
      "outputs": []
    },
    {
      "cell_type": "markdown",
      "source": [
        "**The accuracy score of the predicted labels.**"
      ],
      "metadata": {
        "id": "wHhyl5oAgKNM"
      }
    },
    {
      "cell_type": "code",
      "source": [
        "accuracy_score(predicted,y_test)"
      ],
      "metadata": {
        "colab": {
          "base_uri": "https://localhost:8080/"
        },
        "id": "iyoygPrRSGjK",
        "outputId": "5bdebe72-2bb6-47ca-a168-bd0fe6682314"
      },
      "execution_count": null,
      "outputs": [
        {
          "output_type": "execute_result",
          "data": {
            "text/plain": [
              "0.9210526315789473"
            ]
          },
          "metadata": {},
          "execution_count": 17
        }
      ]
    },
    {
      "cell_type": "markdown",
      "source": [
        "**Set the expected variable to the true labels of the testing data.**"
      ],
      "metadata": {
        "id": "xxLtTQoJgak3"
      }
    },
    {
      "cell_type": "code",
      "source": [
        "expected=y_test"
      ],
      "metadata": {
        "id": "rqlvduBbSIwa"
      },
      "execution_count": null,
      "outputs": []
    },
    {
      "cell_type": "markdown",
      "source": [
        "**Create a figure for plotting with specified dimensions and adjustments**\n",
        "**Create a scatter plot to visualize the predicted and actual classes using PCA components**\n"
      ],
      "metadata": {
        "id": "7HKFrknjg37k"
      }
    },
    {
      "cell_type": "code",
      "source": [
        "# Plot the prediction\n",
        "fig = plt.figure(figsize=(6, 6))  # figure size in inches\n",
        "fig.subplots_adjust(left=0, right=1, bottom=0, top=1, hspace=0.05, wspace=0.05)\n",
        "\n",
        "# Plot the prediction\n",
        "plt.figure(figsize=(8, 6))\n",
        "\n",
        "# Plot points colored by predicted class\n",
        "for target, target_name in enumerate(digits.target_names):\n",
        "    plt.scatter(pca_x_test[predicted == target, 0], pca_x_test[predicted == target, 1],\n",
        "                label=f'Predicted: {target_name}')\n",
        "\n",
        "# Plot actual classes as markers\n",
        "for target, target_name in enumerate(digits.target_names):\n",
        "    plt.scatter(pca_x_test[expected == target, 0], pca_x_test[expected == target, 1],\n",
        "                marker='x', s=100, label=f'Actual: {target_name}')\n",
        "\n",
        "plt.xlabel('Principal Component 1')\n",
        "plt.ylabel('Principal Component 2')\n",
        "plt.title('Predicted vs Actual Classes')\n",
        "plt.legend()\n",
        "plt.show()\n"
      ],
      "metadata": {
        "colab": {
          "base_uri": "https://localhost:8080/",
          "height": 581
        },
        "id": "ZTNBABnbTLGC",
        "outputId": "5f9e15e2-6401-4f79-e32c-f5baf6b025e6"
      },
      "execution_count": null,
      "outputs": [
        {
          "output_type": "display_data",
          "data": {
            "text/plain": [
              "<Figure size 600x600 with 0 Axes>"
            ]
          },
          "metadata": {}
        },
        {
          "output_type": "display_data",
          "data": {
            "text/plain": [
              "<Figure size 800x600 with 1 Axes>"
            ],
            "image/png": "[encoded data removed]"
          },
          "metadata": {}
        }
      ]
    }
  ]
}